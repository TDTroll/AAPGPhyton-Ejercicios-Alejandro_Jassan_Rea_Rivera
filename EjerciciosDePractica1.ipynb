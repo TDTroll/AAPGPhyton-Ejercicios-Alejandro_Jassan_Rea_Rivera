{
  "nbformat": 4,
  "nbformat_minor": 0,
  "metadata": {
    "colab": {
      "name": "EjerciciosDePractica1.ipynb",
      "provenance": [],
      "collapsed_sections": [],
      "authorship_tag": "ABX9TyOEt3HsvTHZyJ4XqnfIqly2",
      "include_colab_link": true
    },
    "kernelspec": {
      "name": "python3",
      "display_name": "Python 3"
    },
    "language_info": {
      "name": "python"
    }
  },
  "cells": [
    {
      "cell_type": "markdown",
      "metadata": {
        "id": "view-in-github",
        "colab_type": "text"
      },
      "source": [
        "<a href=\"https://colab.research.google.com/github/TDTroll/AAPGPhyton-Ejercicios-Alejandro_Jassan_Rea_Rivera/blob/main/EjerciciosDePractica1.ipynb\" target=\"_parent\"><img src=\"https://colab.research.google.com/assets/colab-badge.svg\" alt=\"Open In Colab\"/></a>"
      ]
    },
    {
      "cell_type": "markdown",
      "metadata": {
        "id": "LlNCPCzZwTSZ"
      },
      "source": [
        "\n",
        "**Ejercio 1:**\n",
        "Se tiene la siguiente lista de valores:\n",
        "\n",
        "lista = [1,2,3,4,5,6,6, [2,4,5,6,7,8,9], 'hola', 45]\n",
        "\n",
        "Necesitamos extraer de la lista anidada todos los valores que sean menores a 7 ya que son de vital importancia para generar un diccionario de datos.\n",
        "\n",
        "Consejo: use type para conocer el tipo de datos de los valores de la lista."
      ]
    },
    {
      "cell_type": "code",
      "metadata": {
        "colab": {
          "base_uri": "https://localhost:8080/"
        },
        "id": "YLlf6PoIwaIn",
        "outputId": "998d47d0-b22a-42fd-f557-2cc5cec854a0"
      },
      "source": [
        "#Para extraer TODOS LOS DATOS MENORES A 7 DE TODA LA LISTA\n",
        "lista = [1,2,3,4,5,6,6, [2,4,5,6,6,5,4,3,2,1,5,6,7,8,9], 'hola', 45]\n",
        "def get_values_mix_list(list_mod):\n",
        "  get_list = []\n",
        "  for i in list_mod:\n",
        "    if type(i) == int and i < 7:\n",
        "      get_list.append(i)\n",
        "    elif type(i) == list:\n",
        "      for j in i:\n",
        "        if type(j) == int and j < 7:\n",
        "          get_list.append(j)\n",
        "  return get_list\n",
        "print(get_values_mix_list(lista))"
      ],
      "execution_count": 7,
      "outputs": [
        {
          "output_type": "stream",
          "text": [
            "[1, 2, 3, 4, 5, 6, 6, 2, 4, 5, 6, 6, 5, 4, 3, 2, 1, 5, 6]\n"
          ],
          "name": "stdout"
        }
      ]
    },
    {
      "cell_type": "code",
      "metadata": {
        "colab": {
          "base_uri": "https://localhost:8080/"
        },
        "id": "PHZkg2czouM7",
        "outputId": "2907fc59-9bea-47b6-fb66-d93ce076f2e4"
      },
      "source": [
        "#Para extraer TODOS LOS DATOS MENORES A 7 DE LA LISTA ANIDADA\n",
        "def get_values_mix_list(list_mod):\n",
        "  get_list = []\n",
        "  for i in list_mod:\n",
        "    if type(i) == list:\n",
        "      for j in i:\n",
        "        if type(j) == int and j < 7:\n",
        "          get_list.append(j)\n",
        "  return get_list\n",
        "result = [2, 4, 5, 6, 6, 5, 4, 3, 2, 1, 5, 6]\n",
        "print(result == get_values_mix_list(lista))"
      ],
      "execution_count": 96,
      "outputs": [
        {
          "output_type": "stream",
          "text": [
            "True\n"
          ],
          "name": "stdout"
        }
      ]
    },
    {
      "cell_type": "markdown",
      "metadata": {
        "id": "RbZTKOki0yvn"
      },
      "source": [
        "**EJERCICIO 2:** Se trata de que usted genere una función para que los valores obtenidos en la lista pasen a formar parte de un diccionario que nos ayude a hacer consultas de los valores que se encuentran en esta estrctura de datos."
      ]
    },
    {
      "cell_type": "code",
      "metadata": {
        "colab": {
          "base_uri": "https://localhost:8080/"
        },
        "id": "Y9fe3waX1D1D",
        "outputId": "09058e21-225c-4214-b347-3cff0977c176"
      },
      "source": [
        "new_list = get_values_mix_list(lista)\n",
        "def create_dict(list_mod2):\n",
        "  get_dict = {}\n",
        "  i = 0\n",
        "  for j in list_mod2:\n",
        "      get_dict[i] = j\n",
        "      i += 1\n",
        "  return get_dict\n",
        "diccionario_result = {0: 2, 1: 4, 2: 5, 3: 6, 4: 6, 5: 5, 6: 4, 7: 3, 8: 2, 9: 1, 10: 5, 11: 6}\n",
        "print(create_dict(new_list) == diccionario_result)"
      ],
      "execution_count": 95,
      "outputs": [
        {
          "output_type": "stream",
          "text": [
            "True\n"
          ],
          "name": "stdout"
        }
      ]
    },
    {
      "cell_type": "markdown",
      "metadata": {
        "id": "IKHVxWInTLPo"
      },
      "source": [
        "**Ejercicio 3:** Se hizo una petición http y se obtiene la siguiente información en un conjunto de lista y diccionario, necesito obtener cierta información de alto valor para relizar un modelo que nos ayude a identificar objetos en una imágen, obtenga los valores de la key 'object' y almacenelos en una lista para su posterior análisis."
      ]
    },
    {
      "cell_type": "code",
      "metadata": {
        "id": "wsRo4CkpVdIK"
      },
      "source": [
        "cognitive_response = [\n",
        "  {\n",
        "    \"rectangle\": {\n",
        "      \"x\": 6,\n",
        "      \"y\": 390,\n",
        "      \"w\": 48,\n",
        "      \"h\": 40\n",
        "    },\n",
        "    \"object\": \"footwear\",\n",
        "    \"confidence\": 0.513\n",
        "  },\n",
        "  {\n",
        "    \"rectangle\": {\n",
        "      \"x\": 104,\n",
        "      \"y\": 104,\n",
        "      \"w\": 127,\n",
        "      \"h\": 323\n",
        "    },\n",
        "    \"object\": \"person\",\n",
        "    \"confidence\": 0.763\n",
        "  },\n",
        "  {\n",
        "    \"rectangle\": {\n",
        "      \"x\": 174,\n",
        "      \"y\": 236,\n",
        "      \"w\": 113,\n",
        "      \"h\": 74\n",
        "    },\n",
        "    \"object\": \"Laptop\",\n",
        "    \"parent\": {\n",
        "      \"object\": \"computer\",\n",
        "      \"confidence\": 0.56\n",
        "    },\n",
        "    \"confidence\": 0.553\n",
        "  },\n",
        "  {\n",
        "    \"rectangle\": {\n",
        "      \"x\": 351,\n",
        "      \"y\": 331,\n",
        "      \"w\": 154,\n",
        "      \"h\": 99\n",
        "    },\n",
        "    \"object\": \"seating\",\n",
        "    \"confidence\": 0.525\n",
        "  },\n",
        "  {\n",
        "    \"rectangle\": {\n",
        "      \"x\": 0,\n",
        "      \"y\": 101,\n",
        "      \"w\": 174,\n",
        "      \"h\": 329\n",
        "    },\n",
        "    \"object\": \"person\",\n",
        "    \"confidence\": 0.855\n",
        "  },\n",
        "  {\n",
        "    \"rectangle\": {\n",
        "      \"x\": 223,\n",
        "      \"y\": 99,\n",
        "      \"w\": 199,\n",
        "      \"h\": 322\n",
        "    },\n",
        "    \"object\": \"person\",\n",
        "    \"confidence\": 0.725\n",
        "  },\n",
        "  {\n",
        "    \"rectangle\": {\n",
        "      \"x\": 154,\n",
        "      \"y\": 191,\n",
        "      \"w\": 387,\n",
        "      \"h\": 218\n",
        "    },\n",
        "    \"object\": \"seating\",\n",
        "    \"confidence\": 0.679\n",
        "  },\n",
        "  {\n",
        "    \"rectangle\": {\n",
        "      \"x\": 111,\n",
        "      \"y\": 275,\n",
        "      \"w\": 264,\n",
        "      \"h\": 151\n",
        "    },\n",
        "    \"object\": \"table\",\n",
        "    \"confidence\": 0.601\n",
        "  }\n",
        "]"
      ],
      "execution_count": 64,
      "outputs": []
    },
    {
      "cell_type": "code",
      "metadata": {
        "colab": {
          "base_uri": "https://localhost:8080/"
        },
        "id": "xYAUE3hpZevL",
        "outputId": "d913800b-68f0-4e14-8ed4-b41e9e56b997"
      },
      "source": [
        "def get_object(list_mod3):\n",
        "  list_objects = []\n",
        "  for i in list_mod3:\n",
        "      for j in i:\n",
        "        if j == 'object':\n",
        "          list_objects.append(i[j])\n",
        "  return list_objects\n",
        "real_list_objects = [\"footwear\", \"person\", \"Laptop\", \"seating\", \"person\", \"person\", \"seating\", \"table\"]\n",
        "print(get_object(cognitive_response) == real_list_objects)"
      ],
      "execution_count": 97,
      "outputs": [
        {
          "output_type": "stream",
          "text": [
            "True\n"
          ],
          "name": "stdout"
        }
      ]
    }
  ]
}