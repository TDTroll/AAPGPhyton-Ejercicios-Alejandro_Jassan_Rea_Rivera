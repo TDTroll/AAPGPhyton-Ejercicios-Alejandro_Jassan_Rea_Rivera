{
  "nbformat": 4,
  "nbformat_minor": 0,
  "metadata": {
    "colab": {
      "name": "EjerciciosDePractica1.ipynb",
      "provenance": [],
      "authorship_tag": "ABX9TyPBzhgzKuFmK5I6WoTrwdee",
      "include_colab_link": true
    },
    "kernelspec": {
      "name": "python3",
      "display_name": "Python 3"
    },
    "language_info": {
      "name": "python"
    }
  },
  "cells": [
    {
      "cell_type": "markdown",
      "metadata": {
        "id": "view-in-github",
        "colab_type": "text"
      },
      "source": [
        "<a href=\"https://colab.research.google.com/github/TDTroll/AAPGPhyton-Ejercicios-Alejandro_Jassan_Rea_Rivera/blob/main/EjerciciosDePractica1.ipynb\" target=\"_parent\"><img src=\"https://colab.research.google.com/assets/colab-badge.svg\" alt=\"Open In Colab\"/></a>"
      ]
    },
    {
      "cell_type": "markdown",
      "metadata": {
        "id": "LlNCPCzZwTSZ"
      },
      "source": [
        "\n",
        "**Ejercio 1:**\n",
        "Se tiene la siguiente lista de valores:\n",
        "\n",
        "lista = [1,2,3,4,5,6,6, [2,4,5,6,7,8,9], 'hola', 45]\n",
        "\n",
        "Necesitamos extraer de la lista anidada todos los valores que sean menores a 7 ya que son de vital importancia para generar un diccionario de datos.\n",
        "\n",
        "Consejo: use type para conocer el tipo de datos de los valores de la lista."
      ]
    },
    {
      "cell_type": "code",
      "metadata": {
        "colab": {
          "base_uri": "https://localhost:8080/",
          "height": 129
        },
        "id": "YLlf6PoIwaIn",
        "outputId": "3f6edbda-5273-4e0f-981b-6ebf02eb3f22"
      },
      "source": [
        "lista = [1,2,3,4,5,6,6, [2,4,5,6,6,5,4,3,2,1,5,6,7,8,9], 'hola', 45]\n",
        "def get_values_mix_list(list_mod):\n",
        "  for i in range(len(list_mod)):\n",
        "    for j in range(len(lista_mod[i]))\n",
        "  return get_list\n",
        "print(get_values_mix_list(lista))"
      ],
      "execution_count": null,
      "outputs": [
        {
          "output_type": "error",
          "ename": "SyntaxError",
          "evalue": "ignored",
          "traceback": [
            "\u001b[0;36m  File \u001b[0;32m\"<ipython-input-41-622cac70c223>\"\u001b[0;36m, line \u001b[0;32m4\u001b[0m\n\u001b[0;31m    for j in range(len(lista_mod[i]))\u001b[0m\n\u001b[0m                                     ^\u001b[0m\n\u001b[0;31mSyntaxError\u001b[0m\u001b[0;31m:\u001b[0m invalid syntax\n"
          ]
        }
      ]
    },
    {
      "cell_type": "code",
      "metadata": {
        "id": "oEVhdmOb4Xwa"
      },
      "source": [
        "lista = [1,2,3,4,5,6,6, [2,4,5,6,6,5,4,3,2,1,5,6,7,8,9], 'hola', 45]\n",
        "lista[0] = 1"
      ],
      "execution_count": null,
      "outputs": []
    },
    {
      "cell_type": "code",
      "metadata": {
        "colab": {
          "base_uri": "https://localhost:8080/"
        },
        "id": "3RhVVzepT71n",
        "outputId": "417e867c-4194-45cf-c14a-195dd1784c9f"
      },
      "source": [
        "if True and True:\n",
        "  print(str(type(7)))"
      ],
      "execution_count": null,
      "outputs": [
        {
          "output_type": "stream",
          "text": [
            "<class 'int'>\n"
          ],
          "name": "stdout"
        }
      ]
    }
  ]
}