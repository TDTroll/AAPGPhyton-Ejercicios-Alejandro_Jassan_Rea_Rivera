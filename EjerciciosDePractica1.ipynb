{
  "nbformat": 4,
  "nbformat_minor": 0,
  "metadata": {
    "colab": {
      "name": "EjerciciosDePractica1.ipynb",
      "provenance": [],
      "collapsed_sections": [],
      "authorship_tag": "ABX9TyOd8qzcDkIOj3h7JPTQ5bDi",
      "include_colab_link": true
    },
    "kernelspec": {
      "name": "python3",
      "display_name": "Python 3"
    },
    "language_info": {
      "name": "python"
    }
  },
  "cells": [
    {
      "cell_type": "markdown",
      "metadata": {
        "id": "view-in-github",
        "colab_type": "text"
      },
      "source": [
        "<a href=\"https://colab.research.google.com/github/TDTroll/AAPGPhyton-Ejercicios-Alejandro_Jassan_Rea_Rivera/blob/main/EjerciciosDePractica1.ipynb\" target=\"_parent\"><img src=\"https://colab.research.google.com/assets/colab-badge.svg\" alt=\"Open In Colab\"/></a>"
      ]
    },
    {
      "cell_type": "markdown",
      "metadata": {
        "id": "LlNCPCzZwTSZ"
      },
      "source": [
        "\n",
        "**Ejercio 1:**\n",
        "Se tiene la siguiente lista de valores:\n",
        "\n",
        "lista = [1,2,3,4,5,6,6, [2,4,5,6,7,8,9], 'hola', 45]\n",
        "\n",
        "Necesitamos extraer de la lista anidada todos los valores que sean menores a 7 ya que son de vital importancia para generar un diccionario de datos.\n",
        "\n",
        "Consejo: use type para conocer el tipo de datos de los valores de la lista."
      ]
    },
    {
      "cell_type": "code",
      "metadata": {
        "colab": {
          "base_uri": "https://localhost:8080/"
        },
        "id": "YLlf6PoIwaIn",
        "outputId": "998d47d0-b22a-42fd-f557-2cc5cec854a0"
      },
      "source": [
        "#Para extraer TODOS LOS DATOS MENORES A 7 DE TODA LA LISTA\n",
        "lista = [1,2,3,4,5,6,6, [2,4,5,6,6,5,4,3,2,1,5,6,7,8,9], 'hola', 45]\n",
        "def get_values_mix_list(list_mod):\n",
        "  get_list = []\n",
        "  for i in list_mod:\n",
        "    if type(i) == int and i < 7:\n",
        "      get_list.append(i)\n",
        "    elif type(i) == list:\n",
        "      for j in i:\n",
        "        if type(j) == int and j < 7:\n",
        "          get_list.append(j)\n",
        "  return get_list\n",
        "print(get_values_mix_list(lista))"
      ],
      "execution_count": 7,
      "outputs": [
        {
          "output_type": "stream",
          "text": [
            "[1, 2, 3, 4, 5, 6, 6, 2, 4, 5, 6, 6, 5, 4, 3, 2, 1, 5, 6]\n"
          ],
          "name": "stdout"
        }
      ]
    },
    {
      "cell_type": "code",
      "metadata": {
        "colab": {
          "base_uri": "https://localhost:8080/"
        },
        "id": "PHZkg2czouM7",
        "outputId": "b4bddd90-936b-4d58-a02c-e1d4dd3798d8"
      },
      "source": [
        "#Para extraer TODOS LOS DATOS MENORES A 7 DE LA LISTA ANIDADA\n",
        "def get_values_mix_list(list_mod):\n",
        "  get_list = []\n",
        "  for i in list_mod:\n",
        "    if type(i) == list:\n",
        "      for j in i:\n",
        "        if type(j) == int and j < 7:\n",
        "          get_list.append(j)\n",
        "  return get_list\n",
        "result = [2, 4, 5, 6, 6, 5, 4, 3, 2, 1, 5, 6]\n",
        "print(result == get_values_mix_list(lista))\n",
        "print(result,\"=\", get_values_mix_list(lista))"
      ],
      "execution_count": 8,
      "outputs": [
        {
          "output_type": "stream",
          "text": [
            "True\n",
            "[2, 4, 5, 6, 6, 5, 4, 3, 2, 1, 5, 6] = [2, 4, 5, 6, 6, 5, 4, 3, 2, 1, 5, 6]\n"
          ],
          "name": "stdout"
        }
      ]
    },
    {
      "cell_type": "markdown",
      "metadata": {
        "id": "RbZTKOki0yvn"
      },
      "source": [
        "**EJERCICIO 2:** Se trata de que usted genere una función para que los valores obtenidos en la lista pasen a formar parte de un diccionario que nos ayude a hacer consultas de los valores que se encuentran en esta estrctura de datos."
      ]
    },
    {
      "cell_type": "code",
      "metadata": {
        "colab": {
          "base_uri": "https://localhost:8080/"
        },
        "id": "Y9fe3waX1D1D",
        "outputId": "1061c276-7052-4a2c-9e08-fcf786ae85a0"
      },
      "source": [
        "new_list = get_values_mix_list(lista)\n",
        "def create_dict(list_mod2):\n",
        "  get_dict = {}\n",
        "  i = 0\n",
        "  for j in list_mod2:\n",
        "      get_dict[i] = j\n",
        "      i += 1\n",
        "  return get_dict\n",
        "diccionario_result = {0: 2, 1: 4, 2: 5, 3: 6, 4: 6, 5: 5, 6: 4, 7: 3, 8: 2, 9: 1, 10: 5, 11: 6}\n",
        "print(create_dict(new_list) == diccionario_result)\n",
        "print(create_dict(new_list), \"=\", diccionario_result)"
      ],
      "execution_count": 52,
      "outputs": [
        {
          "output_type": "stream",
          "text": [
            "True\n",
            "{0: 2, 1: 4, 2: 5, 3: 6, 4: 6, 5: 5, 6: 4, 7: 3, 8: 2, 9: 1, 10: 5, 11: 6} = {0: 2, 1: 4, 2: 5, 3: 6, 4: 6, 5: 5, 6: 4, 7: 3, 8: 2, 9: 1, 10: 5, 11: 6}\n"
          ],
          "name": "stdout"
        }
      ]
    },
    {
      "cell_type": "markdown",
      "metadata": {
        "id": "IKHVxWInTLPo"
      },
      "source": [
        "**Ejercicio 3:**"
      ]
    }
  ]
}