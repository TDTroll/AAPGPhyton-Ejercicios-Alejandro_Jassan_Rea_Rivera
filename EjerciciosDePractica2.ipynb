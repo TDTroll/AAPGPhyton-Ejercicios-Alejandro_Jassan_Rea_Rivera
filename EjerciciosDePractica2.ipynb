{
  "nbformat": 4,
  "nbformat_minor": 0,
  "metadata": {
    "colab": {
      "name": "EjerciciosDePractica2.ipynb",
      "provenance": [],
      "authorship_tag": "ABX9TyNGtmdYp02OIx+vQ8GqCqVy",
      "include_colab_link": true
    },
    "kernelspec": {
      "name": "python3",
      "display_name": "Python 3"
    },
    "language_info": {
      "name": "python"
    }
  },
  "cells": [
    {
      "cell_type": "markdown",
      "metadata": {
        "id": "view-in-github",
        "colab_type": "text"
      },
      "source": [
        "<a href=\"https://colab.research.google.com/github/TDTroll/AAPGPhyton-Ejercicios-Alejandro_Jassan_Rea_Rivera/blob/main/EjerciciosDePractica2.ipynb\" target=\"_parent\"><img src=\"https://colab.research.google.com/assets/colab-badge.svg\" alt=\"Open In Colab\"/></a>"
      ]
    },
    {
      "cell_type": "markdown",
      "metadata": {
        "id": "pL0h3rvf0xOF"
      },
      "source": [
        "**Ejercicio 1:** Piensa en todos los casos posibles para que el programa que se realizó en la sesión número tres donde se resolvió el algoritmo de mínimo y máximo. Lista todos los casos que pienses, observa el ejemplo. Lista al menos 5\n",
        "\n",
        "**Casos propuestos por el máster:**\n",
        "1.   Una lista vacía -> [ ]\n",
        "2.   Una lista con un solo valor minímo -> [2, 3, 1, 4, 5, 6, 7, 8]\n",
        "**Casos propuestos por su servilleta:**\n",
        "3.   Elemento de la lista repetido -> [3, 3, 3, 3, 3, 3]\n",
        "4.   Lista acomodada orden creciente -> [5, 6, 7, 8, 9, 10]\n",
        "5.   Lista acomodada orden decreciente -> [10, 9, 8, 7, 6, 5]\n",
        "6.   Lista con elementos repetidos en pares -> [1, 1, 2, 2, 3, 3, 4, 4]\n",
        "\n",
        "\n"
      ]
    },
    {
      "cell_type": "code",
      "metadata": {
        "id": "BycTGLjV0ilt"
      },
      "source": [
        "#Lista vacía\n",
        "test = {\n",
        "    'input': {\n",
        "        'nums': []\n",
        "    },\n",
        "    'output': 0\n",
        "}\n",
        "#Lista con 1 solo valor minímo\n",
        "test1 = {\n",
        "    'input': {\n",
        "        'nums': [2, 3, 1, 4, 5, 6, 7, 8]\n",
        "    },\n",
        "    'output': 1\n",
        "}\n",
        "#Lista con elemento repetido\n",
        "test2 = {\n",
        "    'input': {\n",
        "        'nums': [3, 3, 3, 3, 3, 3]\n",
        "    },\n",
        "    'output': 3\n",
        "}\n",
        "#Lista creciente\n",
        "test3 = {\n",
        "    'input': {\n",
        "        'nums': [5, 6, 7, 8, 9, 10]\n",
        "    },\n",
        "    'output': 5\n",
        "}\n",
        "#Lista decreciente\n",
        "test4 = {\n",
        "    'input': {\n",
        "        'nums': [10, 9, 8, 7, 6, 5]\n",
        "    },\n",
        "    'output': 5\n",
        "}\n",
        "#Lista pares repetidos\n",
        "test5 = {\n",
        "    'input': {\n",
        "        'nums': [1, 1, 2, 2, 3, 3, 4, 4]\n",
        "    },\n",
        "    'output': 1\n",
        "}\n"
      ],
      "execution_count": 6,
      "outputs": []
    },
    {
      "cell_type": "markdown",
      "metadata": {
        "id": "ZdlT6P6xTnl7"
      },
      "source": [
        "**Ejercicio 2:**\n",
        "¿Recuerdas la teoría de la sesión de este ejercicio?\n",
        "\n",
        "Explica brevemente en una serie de pasos como trabaja el primer algoritmo que es el peor caso."
      ]
    },
    {
      "cell_type": "code",
      "metadata": {
        "id": "pV27-mI1UQdN"
      },
      "source": [
        "def findMin(alist):\n",
        "  minimo = alist[0] ####------O(n^2)\n",
        "  ####-------- Worst Case\n",
        "  for i in alist:\n",
        "    valor_minimo = True\n",
        "    for j in alist:\n",
        "      if i > j :\n",
        "        valor_minimo = False\n",
        "    if valor_minimo:\n",
        "      minimo = i\n",
        "  return minimo"
      ],
      "execution_count": 28,
      "outputs": []
    },
    {
      "cell_type": "markdown",
      "metadata": {
        "id": "exjqmKftVF3w"
      },
      "source": [
        "\n",
        "El concepto del algoritmo es encontrar el número menor a partir de la comparación de todos los elementos de una lista, por lo cual los pasos a programar son: \n",
        "1.   Crear una variable llamada minimo con la posición 0 de la lista.\n",
        "2.   Iterar i como valor (ignorando el índice) de la lista.\n",
        "3.   Hacer la comparación de i con j (i > j).\n",
        "4.   Crear una variable (valor_minimo) de tipo booleana.\n",
        "5.   Condicionar valor_minímo con True o False para cerrar ciclos.\n",
        "6.   Regresar como resultado minimo, cuyo valor será el último iterado de i.\n",
        "\n"
      ]
    },
    {
      "cell_type": "markdown",
      "metadata": {
        "id": "9PM6p1FIl2KY"
      },
      "source": [
        "**Ejercicio 3:** Prueba tu código ingresando en la función tus casos que están almacenados en el diccionario, ejemplo: Tienes que agregar la solución cuando la lista este vacía."
      ]
    },
    {
      "cell_type": "code",
      "metadata": {
        "colab": {
          "base_uri": "https://localhost:8080/"
        },
        "id": "hJE-ulBqk6Yy",
        "outputId": "9966e6a7-240c-4423-968c-1efe5ed53e51"
      },
      "source": [
        "#Función contemplando lista vacía (findMinMod)\n",
        "def findMinMod(alist):\n",
        "  if len(alist) == 0:\n",
        "    minimo = 0\n",
        "    return minimo\n",
        "  minimo = alist[0] ####------O(n^2)\n",
        "  ####-------- Worst Case\n",
        "  for i in alist:\n",
        "    valor_minimo = True\n",
        "    for j in alist:\n",
        "      if i > j :\n",
        "        valor_minimo = False\n",
        "    if valor_minimo:\n",
        "      minimo = i\n",
        "  return minimo\n",
        "print(\"Caso 1: \",findMinMod(test['input']['nums']) == test['output'])\n",
        "print(\"Caso 2: \",findMinMod(test1['input']['nums']) == test1['output'])\n",
        "print(\"Caso 3: \",findMinMod(test2['input']['nums']) == test2['output'])\n",
        "print(\"Caso 4: \",findMinMod(test3['input']['nums']) == test3['output'])\n",
        "print(\"Caso 5: \",findMinMod(test4['input']['nums']) == test4['output'])\n",
        "print(\"Caso 6: \",findMinMod(test5['input']['nums']) == test5['output'])\n"
      ],
      "execution_count": 35,
      "outputs": [
        {
          "output_type": "stream",
          "text": [
            "Caso 1:  True\n",
            "Caso 2:  True\n",
            "Caso 3:  True\n",
            "Caso 4:  True\n",
            "Caso 5:  True\n",
            "Caso 6:  True\n"
          ],
          "name": "stdout"
        }
      ]
    },
    {
      "cell_type": "markdown",
      "metadata": {
        "id": "-cNGKKLtsk3e"
      },
      "source": [
        "**Ejercicio 4:** Explica brevemente en una serie de pasos como trabaja el segundo algoritmo, pon ejemplos con listas o imágenes si lo requieres."
      ]
    },
    {
      "cell_type": "code",
      "metadata": {
        "id": "jyuonZNls7uq"
      },
      "source": [
        "def findMinOptimizado(lista_):\n",
        "  ##Best case\n",
        "  set_min = lista_[0]\n",
        "  for i in lista_: ##----------> O(n)\n",
        "    if i < set_min:\n",
        "      set_min = i\n",
        "  return set_min"
      ],
      "execution_count": 36,
      "outputs": []
    },
    {
      "cell_type": "markdown",
      "metadata": {
        "id": "SO7ULKcItAx0"
      },
      "source": [
        "Para este algoritmo optimizado se omite la comparación entre todos sus elementos guardando el menos para su posterior comparación, por lo cual los pasos a programar son: \n",
        "\n",
        "\n",
        "1.   Guardar el primer valor de la lista en una variable.\n",
        "2.   Iterar I con valores de la lista.\n",
        "3.   Comparar I con el valor anterior (i < set_min).\n",
        "4.   Reescribir set_min con i si se cumple la condición.\n",
        "5.   Regresa set_min."
      ]
    },
    {
      "cell_type": "markdown",
      "metadata": {
        "id": "CGz2srwPv-5F"
      },
      "source": [
        "**Ejercicio 5:** Evalúa tus casos al igual que en el algotimo anterior e implementa cuando una lista es vacía."
      ]
    },
    {
      "cell_type": "code",
      "metadata": {
        "colab": {
          "base_uri": "https://localhost:8080/"
        },
        "id": "_VjOZbFxwMqk",
        "outputId": "b230cf89-d57a-4d73-cdcc-8e04998b4d58"
      },
      "source": [
        "def findMinOptimizadoMod(lista_):\n",
        "  ##Best case\n",
        "  if len(lista_) == 0:\n",
        "    set_min = 0\n",
        "    return set_min\n",
        "  set_min = lista_[0]\n",
        "  for i in lista_: ##----------> O(n)\n",
        "    if i < set_min:\n",
        "      set_min = i\n",
        "  return set_min\n",
        "print(\"Caso 1: \",findMinOptimizadoMod(test['input']['nums']) == test['output'])\n",
        "print(\"Caso 2: \",findMinOptimizadoMod(test1['input']['nums']) == test1['output'])\n",
        "print(\"Caso 3: \",findMinOptimizadoMod(test2['input']['nums']) == test2['output'])\n",
        "print(\"Caso 4: \",findMinOptimizadoMod(test3['input']['nums']) == test3['output'])\n",
        "print(\"Caso 5: \",findMinOptimizadoMod(test4['input']['nums']) == test4['output'])\n",
        "print(\"Caso 6: \",findMinOptimizadoMod(test5['input']['nums']) == test5['output'])"
      ],
      "execution_count": 38,
      "outputs": [
        {
          "output_type": "stream",
          "text": [
            "Caso 1:  True\n",
            "Caso 2:  True\n",
            "Caso 3:  True\n",
            "Caso 4:  True\n",
            "Caso 5:  True\n",
            "Caso 6:  True\n"
          ],
          "name": "stdout"
        }
      ]
    }
  ]
}